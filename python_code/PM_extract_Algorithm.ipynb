{
 "cells": [
  {
   "cell_type": "code",
   "execution_count": 3,
   "id": "closing-recipe",
   "metadata": {},
   "outputs": [],
   "source": [
    "%matplotlib inline\n",
    "import pandas as pd                #  data store and treat package pandas \n",
    "import matplotlib as mpl           # graph package\n",
    "import matplotlib.pyplot as plt    # graph package\n",
    "import numpy as np"
   ]
  },
  {
   "cell_type": "code",
   "execution_count": 4,
   "id": "champion-generation",
   "metadata": {},
   "outputs": [
    {
     "data": {
      "text/html": [
       "<div>\n",
       "<style scoped>\n",
       "    .dataframe tbody tr th:only-of-type {\n",
       "        vertical-align: middle;\n",
       "    }\n",
       "\n",
       "    .dataframe tbody tr th {\n",
       "        vertical-align: top;\n",
       "    }\n",
       "\n",
       "    .dataframe thead th {\n",
       "        text-align: right;\n",
       "    }\n",
       "</style>\n",
       "<table border=\"1\" class=\"dataframe\">\n",
       "  <thead>\n",
       "    <tr style=\"text-align: right;\">\n",
       "      <th></th>\n",
       "      <th>PM</th>\n",
       "    </tr>\n",
       "  </thead>\n",
       "  <tbody>\n",
       "    <tr>\n",
       "      <th>0</th>\n",
       "      <td>\\n14\";\"14</td>\n",
       "    </tr>\n",
       "    <tr>\n",
       "      <th>1</th>\n",
       "      <td>\\n14\";\"14</td>\n",
       "    </tr>\n",
       "    <tr>\n",
       "      <th>2</th>\n",
       "      <td>\\n14\";\"14</td>\n",
       "    </tr>\n",
       "    <tr>\n",
       "      <th>3</th>\n",
       "      <td>\\n14\";\"14</td>\n",
       "    </tr>\n",
       "    <tr>\n",
       "      <th>4</th>\n",
       "      <td>\\n14\";\"14</td>\n",
       "    </tr>\n",
       "    <tr>\n",
       "      <th>...</th>\n",
       "      <td>...</td>\n",
       "    </tr>\n",
       "    <tr>\n",
       "      <th>598</th>\n",
       "      <td>\\n19\";\"19</td>\n",
       "    </tr>\n",
       "    <tr>\n",
       "      <th>599</th>\n",
       "      <td>\\n20\";\"20</td>\n",
       "    </tr>\n",
       "    <tr>\n",
       "      <th>600</th>\n",
       "      <td>\\n20\";\"20</td>\n",
       "    </tr>\n",
       "    <tr>\n",
       "      <th>601</th>\n",
       "      <td>\\n20\";\"20</td>\n",
       "    </tr>\n",
       "    <tr>\n",
       "      <th>602</th>\n",
       "      <td>\\n20\";\"20</td>\n",
       "    </tr>\n",
       "  </tbody>\n",
       "</table>\n",
       "<p>603 rows × 1 columns</p>\n",
       "</div>"
      ],
      "text/plain": [
       "            PM\n",
       "0    \\n14\";\"14\n",
       "1    \\n14\";\"14\n",
       "2    \\n14\";\"14\n",
       "3    \\n14\";\"14\n",
       "4    \\n14\";\"14\n",
       "..         ...\n",
       "598  \\n19\";\"19\n",
       "599  \\n20\";\"20\n",
       "600  \\n20\";\"20\n",
       "601  \\n20\";\"20\n",
       "602  \\n20\";\"20\n",
       "\n",
       "[603 rows x 1 columns]"
      ]
     },
     "execution_count": 4,
     "metadata": {},
     "output_type": "execute_result"
    }
   ],
   "source": [
    "PM_information = pd.read_csv('CoRec_PM.csv',encoding='euc-kr') # 여기에 파일 넣으시면 됩니다.\n",
    "PM_information"
   ]
  },
  {
   "cell_type": "code",
   "execution_count": 5,
   "id": "certain-agent",
   "metadata": {},
   "outputs": [
    {
     "data": {
      "text/plain": [
       "0      \\n14\";\"14\n",
       "1      \\n14\";\"14\n",
       "2      \\n14\";\"14\n",
       "3      \\n14\";\"14\n",
       "4      \\n14\";\"14\n",
       "         ...    \n",
       "598    \\n19\";\"19\n",
       "599    \\n20\";\"20\n",
       "600    \\n20\";\"20\n",
       "601    \\n20\";\"20\n",
       "602    \\n20\";\"20\n",
       "Name: PM, Length: 603, dtype: object"
      ]
     },
     "execution_count": 5,
     "metadata": {},
     "output_type": "execute_result"
    }
   ],
   "source": [
    "PM_information[\"PM\"]"
   ]
  },
  {
   "cell_type": "code",
   "execution_count": 6,
   "id": "further-collar",
   "metadata": {},
   "outputs": [
    {
     "name": "stdout",
     "output_type": "stream",
     "text": [
      "\n",
      "1\n",
      ";\"\n"
     ]
    }
   ],
   "source": [
    "data = PM_information[\"PM\"]\n",
    "print(data[1][0:2])\n",
    "print(data[1][4:6])"
   ]
  },
  {
   "cell_type": "code",
   "execution_count": 7,
   "id": "communist-nursery",
   "metadata": {},
   "outputs": [],
   "source": [
    "dic_PM2_5 = {'1일차' : [], '2일차' : [], '3일차' : [], '4일차' : [], '5일차' : [], }\n",
    "dic_PM10 = {'1일차' : [], '2일차' : [], '3일차' : [], '4일차' : [], '5일차' : [], }"
   ]
  },
  {
   "cell_type": "code",
   "execution_count": 8,
   "id": "excellent-addiction",
   "metadata": {},
   "outputs": [
    {
     "name": "stdout",
     "output_type": "stream",
     "text": [
      "600\n",
      "600\n"
     ]
    }
   ],
   "source": [
    "PM2_5_data = []\n",
    "PM10_data = []\n",
    "for i in range(600):\n",
    "    \n",
    "# 뛰어쓰기 되지 않은 선처리 파일 실행시 이 코드 사용 # \n",
    "#     PM2_5_data.append(int(data[i][0:2]))\n",
    "#     PM10_data.append(int(data[i][4:6]))\n",
    "\n",
    "# 뛰어쓰기 된 선처리 파일 실행시 이 코드 사용 #\n",
    "\n",
    "    a = data[i].lstrip()\n",
    "    a = a.replace('\";\"', \"\")\n",
    "    if len(a) == 2:\n",
    "        PM2_5_data.append(int(a[0]))\n",
    "        PM10_data.append(int(a[1]))\n",
    "    elif len(a) == 3:\n",
    "        PM2_5_data.append(int(a[0]))\n",
    "        PM10_data.append(int(a[1:3]))\n",
    "    elif len(a) == 4:\n",
    "        PM2_5_data.append(int(a[0:2]))\n",
    "        PM10_data.append(int(a[2:4]))\n",
    "    \n",
    "        \n",
    "print(len(PM2_5_data))\n",
    "print(len(PM10_data))"
   ]
  },
  {
   "cell_type": "code",
   "execution_count": 9,
   "id": "dated-truth",
   "metadata": {},
   "outputs": [
    {
     "name": "stdout",
     "output_type": "stream",
     "text": [
      "{'1일차': [14, 14, 14, 14, 14, 14, 14, 14, 14, 14, 14, 14, 15, 15, 15, 14, 14, 14, 14, 14, 14, 17, 17, 17, 18, 18, 18, 18, 18, 18, 18, 18, 18, 18, 18, 18, 19, 19, 19, 19, 19, 19, 21, 21, 21, 22, 22, 22, 22, 22, 22, 22, 22, 22, 21, 21, 21, 21, 21, 21, 21, 21, 21, 18, 18, 18, 18, 18, 18, 17, 17, 17, 15, 15, 15, 15, 15, 15, 15, 15, 15, 15, 15, 15, 15, 15, 15, 15, 15, 15, 15, 15, 15, 17, 17, 17, 17, 17, 17, 19, 19, 19, 18, 18, 18, 18, 18, 18, 18, 18, 17, 17, 17, 19, 19, 20, 20, 20, 20, 19], '2일차': [19, 19, 20, 20, 20, 20, 20, 20, 18, 18, 18, 18, 18, 18, 18, 18, 18, 20, 20, 20, 20, 20, 20, 20, 20, 20, 18, 18, 18, 19, 19, 19, 19, 20, 20, 20, 20, 20, 21, 21, 21, 21, 21, 21, 21, 21, 21, 21, 21, 21, 20, 20, 20, 20, 20, 20, 20, 20, 20, 21, 21, 21, 21, 21, 21, 20, 20, 20, 21, 21, 21, 21, 21, 21, 22, 22, 22, 22, 22, 22, 21, 21, 21, 21, 21, 21, 21, 21, 21, 21, 21, 21, 20, 20, 20, 20, 20, 20, 20, 20, 20, 18, 18, 18, 18, 18, 18, 18, 18, 18, 18, 18, 18, 20, 20, 20, 20, 20, 20, 20], '3일차': [20, 20, 21, 21, 21, 21, 21, 21, 21, 21, 21, 22, 22, 22, 22, 22, 22, 22, 22, 22, 22, 22, 22, 22, 22, 22, 20, 20, 20, 20, 20, 20, 20, 20, 20, 20, 20, 20, 21, 21, 21, 21, 21, 21, 21, 21, 21, 21, 21, 21, 21, 21, 21, 21, 21, 21, 22, 23, 23, 23, 23, 22, 21, 21, 21, 21, 21, 21, 21, 21, 21, 21, 21, 21, 21, 21, 21, 21, 21, 21, 20, 20, 20, 20, 20, 20, 21, 21, 21, 23, 23, 23, 24, 24, 24, 25, 25, 25, 25, 25, 25, 25, 26, 26, 27, 27, 27, 27, 27, 27, 28, 28, 28, 29, 29, 29, 29, 29, 29, 29], '4일차': [29, 29, 29, 29, 29, 28, 28, 28, 29, 29, 31, 32, 33, 34, 34, 34, 34, 35, 35, 35, 34, 34, 33, 33, 33, 33, 32, 32, 32, 31, 31, 31, 31, 31, 31, 31, 31, 31, 32, 32, 32, 32, 32, 32, 32, 32, 32, 31, 31, 31, 32, 32, 32, 31, 31, 31, 31, 31, 31, 31, 31, 31, 31, 31, 31, 28, 28, 28, 27, 27, 27, 25, 25, 25, 24, 24, 24, 22, 22, 22, 21, 22, 22, 22, 21, 21, 20, 20, 20, 19, 19, 19, 19, 19, 19, 18, 18, 18, 19, 19, 19, 17, 17, 17, 17, 17, 17, 19, 18, 18, 18, 18, 19, 19, 19, 19, 19, 19, 19, 20], '5일차': [20, 20, 19, 19, 19, 19, 19, 19, 19, 18, 18, 18, 19, 19, 19, 19, 19, 19, 19, 18, 17, 17, 17, 17, 17, 17, 17, 17, 17, 17, 17, 17, 17, 17, 17, 17, 17, 17, 17, 17, 17, 17, 17, 17, 17, 17, 17, 19, 19, 19, 19, 19, 19, 19, 19, 19, 19, 19, 19, 19, 19, 18, 18, 18, 19, 19, 19, 19, 19, 19, 19, 17, 17, 17, 17, 17, 17, 17, 17, 17, 17, 17, 17, 17, 17, 17, 17, 17, 17, 17, 17, 17, 17, 17, 17, 17, 17, 17, 17, 17, 17, 19, 19, 19, 19, 19, 19, 19, 19, 19, 19, 19, 19, 19, 19, 19, 19, 19, 19, 20]}\n",
      "{'1일차': [14, 14, 14, 14, 14, 14, 14, 14, 14, 14, 14, 14, 15, 15, 15, 14, 14, 14, 14, 14, 14, 18, 18, 18, 19, 19, 19, 19, 19, 19, 18, 18, 18, 19, 19, 19, 19, 19, 19, 21, 21, 21, 22, 22, 22, 22, 22, 22, 23, 23, 23, 22, 22, 22, 21, 21, 21, 21, 21, 21, 21, 21, 21, 18, 18, 18, 18, 18, 18, 17, 17, 17, 15, 15, 15, 15, 15, 15, 15, 15, 15, 15, 15, 15, 15, 15, 15, 15, 15, 15, 15, 15, 15, 17, 17, 17, 17, 17, 17, 19, 19, 19, 18, 18, 18, 18, 18, 18, 18, 18, 17, 17, 17, 19, 19, 20, 20, 20, 20, 19], '2일차': [19, 19, 20, 20, 20, 20, 20, 20, 18, 18, 18, 21, 21, 21, 22, 22, 22, 22, 22, 22, 22, 22, 22, 22, 22, 22, 22, 22, 22, 22, 22, 22, 23, 24, 24, 24, 24, 24, 24, 24, 24, 21, 21, 21, 21, 21, 21, 21, 21, 21, 20, 20, 20, 20, 20, 20, 20, 20, 20, 21, 21, 21, 21, 21, 21, 20, 20, 20, 21, 21, 21, 21, 21, 21, 22, 22, 22, 22, 22, 22, 21, 21, 21, 21, 21, 21, 21, 21, 21, 21, 21, 21, 20, 20, 20, 20, 20, 20, 20, 20, 20, 18, 18, 18, 18, 18, 18, 18, 18, 18, 18, 18, 18, 20, 20, 20, 20, 20, 20, 20], '3일차': [20, 20, 21, 21, 21, 21, 21, 21, 21, 21, 21, 22, 22, 22, 22, 22, 22, 22, 22, 22, 22, 22, 22, 22, 22, 22, 20, 20, 20, 20, 20, 20, 20, 20, 20, 20, 20, 20, 21, 21, 21, 21, 21, 21, 21, 21, 21, 21, 21, 21, 21, 21, 21, 21, 21, 21, 22, 23, 23, 23, 23, 22, 21, 21, 21, 21, 21, 21, 21, 21, 21, 21, 21, 21, 21, 21, 21, 21, 21, 21, 20, 20, 20, 20, 20, 20, 21, 21, 21, 23, 23, 23, 24, 24, 24, 25, 25, 25, 25, 25, 25, 25, 26, 26, 27, 27, 27, 27, 27, 27, 28, 28, 28, 29, 29, 29, 29, 29, 29, 29], '4일차': [29, 29, 29, 29, 29, 28, 28, 28, 29, 29, 31, 32, 33, 34, 34, 34, 34, 35, 35, 35, 35, 35, 35, 33, 33, 33, 33, 33, 33, 32, 32, 32, 32, 32, 32, 32, 32, 32, 32, 32, 32, 32, 32, 32, 32, 32, 32, 32, 32, 32, 32, 32, 32, 31, 31, 31, 31, 31, 31, 31, 31, 31, 31, 31, 31, 28, 28, 28, 27, 27, 27, 25, 25, 25, 24, 24, 24, 22, 22, 22, 21, 22, 22, 22, 21, 21, 20, 20, 20, 19, 19, 19, 19, 19, 19, 18, 18, 18, 19, 19, 19, 17, 17, 17, 17, 17, 17, 19, 18, 18, 18, 18, 19, 19, 19, 19, 19, 19, 19, 20], '5일차': [20, 20, 19, 19, 19, 19, 19, 19, 19, 18, 18, 18, 19, 19, 19, 19, 19, 19, 19, 18, 17, 17, 17, 17, 17, 17, 17, 17, 17, 17, 17, 17, 17, 17, 17, 17, 17, 17, 17, 17, 17, 17, 17, 17, 17, 17, 17, 19, 19, 19, 19, 19, 19, 19, 19, 19, 19, 19, 19, 19, 19, 18, 18, 18, 19, 19, 19, 19, 19, 19, 19, 17, 17, 17, 17, 17, 17, 17, 17, 17, 17, 17, 17, 17, 17, 17, 17, 17, 17, 17, 17, 17, 17, 17, 17, 17, 17, 17, 17, 17, 17, 19, 19, 19, 19, 19, 19, 19, 19, 19, 19, 19, 19, 19, 19, 19, 19, 19, 19, 20]}\n"
     ]
    }
   ],
   "source": [
    "count = 0\n",
    "num = 0\n",
    "day = 1\n",
    "\n",
    "while day < 6:\n",
    "    if num == 120:\n",
    "        day += 1 \n",
    "        num = 0\n",
    "    else:    \n",
    "        dic_PM2_5[\"{}일차\".format(day)].append(int(PM2_5_data[count]))\n",
    "        dic_PM10[\"{}일차\".format(day)].append(int(PM10_data[count]))\n",
    "        count += 1\n",
    "        num += 1\n",
    "\n",
    "print(dic_PM2_5)\n",
    "print(dic_PM10)"
   ]
  },
  {
   "cell_type": "code",
   "execution_count": 10,
   "id": "greek-annual",
   "metadata": {
    "scrolled": true
   },
   "outputs": [
    {
     "name": "stdout",
     "output_type": "stream",
     "text": [
      "PM2.5 1일차 평균 17.441666666666666\n",
      "PM10 1일차 평균 17.641666666666666\n",
      "PM2.5 2일차 평균 19.95\n",
      "PM10 2일차 평균 20.725\n",
      "PM2.5 3일차 평균 22.425\n",
      "PM10 3일차 평균 22.425\n",
      "PM2.5 4일차 평균 26.55\n",
      "PM10 4일차 평균 26.708333333333332\n",
      "PM2.5 5일차 평균 18.016666666666666\n",
      "PM10 5일차 평균 18.016666666666666\n",
      "[17.441666666666666, 19.95, 22.425, 26.55, 18.016666666666666]\n",
      "[17.641666666666666, 20.725, 22.425, 26.708333333333332, 18.016666666666666]\n"
     ]
    }
   ],
   "source": [
    "# print(dic_PM2_5['1일차'].astype(np.int64))\n",
    "data = np.array(dic_PM2_5['1일차'])\n",
    "data_new = data.astype(float)\n",
    "average_1_PM2_5 = np.mean(data_new)\n",
    "data = np.array(dic_PM10['1일차'])\n",
    "data_new = data.astype(float)\n",
    "average_1_PM10 = np.mean(data_new)\n",
    "\n",
    "data = np.array(dic_PM2_5['2일차'])\n",
    "data_new = data.astype(float)\n",
    "average_2_PM2_5 = np.mean(data_new)\n",
    "data = np.array(dic_PM10['2일차'])\n",
    "data_new = data.astype(float)\n",
    "average_2_PM10 = np.mean(data_new)\n",
    "\n",
    "data = np.array(dic_PM2_5['3일차'])\n",
    "data_new = data.astype(float)\n",
    "average_3_PM2_5 = np.mean(data_new)\n",
    "data = np.array(dic_PM10['3일차'])\n",
    "data_new = data.astype(float)\n",
    "average_3_PM10 = np.mean(data_new)\n",
    "\n",
    "data = np.array(dic_PM2_5['4일차'])\n",
    "data_new = data.astype(float)\n",
    "average_4_PM2_5 = np.mean(data_new)\n",
    "data = np.array(dic_PM10['4일차'])\n",
    "data_new = data.astype(float)\n",
    "average_4_PM10 = np.mean(data_new)\n",
    "\n",
    "data = np.array(dic_PM2_5['5일차'])\n",
    "data_new = data.astype(float)\n",
    "average_5_PM2_5 = np.mean(data_new)\n",
    "data = np.array(dic_PM10['5일차'])\n",
    "data_new = data.astype(float)\n",
    "average_5_PM10 = np.mean(data_new)\n",
    "\n",
    "\n",
    "#1일차 평균\n",
    "print('PM2.5 1일차 평균',average_1_PM2_5)\n",
    "print('PM10 1일차 평균',average_1_PM10)\n",
    "# 2일차 평균\n",
    "print('PM2.5 2일차 평균',average_2_PM2_5)\n",
    "print('PM10 2일차 평균',average_2_PM10)\n",
    "# 3일차 평균\n",
    "print('PM2.5 3일차 평균',average_3_PM2_5)\n",
    "print('PM10 3일차 평균',average_3_PM10)\n",
    "# 4일차 평균\n",
    "print('PM2.5 4일차 평균',average_4_PM2_5)\n",
    "print('PM10 4일차 평균',average_4_PM10)\n",
    "# 5일차 평균\n",
    "print('PM2.5 5일차 평균',average_5_PM2_5)\n",
    "print('PM10 5일차 평균',average_5_PM10)\n",
    "\n",
    "Measurement_PM2_5 = [average_1_PM2_5,average_2_PM2_5,average_3_PM2_5,average_4_PM2_5,average_5_PM2_5]\n",
    "print(Measurement_PM2_5)\n",
    "Measurement_PM10 = [average_1_PM10,average_2_PM10,average_3_PM10,average_4_PM10,average_5_PM10]\n",
    "print(Measurement_PM10)"
   ]
  },
  {
   "cell_type": "markdown",
   "id": "valuable-dairy",
   "metadata": {},
   "source": [
    "#### EPA 2021 인디에나폴리스 PM2.5 과 PM10 값 하루 평균 \n",
    "#### 2021.02.14 ~ 2021.02.18"
   ]
  },
  {
   "cell_type": "code",
   "execution_count": 11,
   "id": "thermal-sunday",
   "metadata": {},
   "outputs": [],
   "source": [
    "EPA_PM2_5 = [14.1, 6.1, 5.2, 10.8, 21.1]\n",
    "EPA_PM10 = [24,17,7,22,14]"
   ]
  },
  {
   "cell_type": "code",
   "execution_count": 12,
   "id": "juvenile-object",
   "metadata": {},
   "outputs": [
    {
     "data": {
      "image/png": "[encoded data removed]",
      "text/plain": [
       "<Figure size 432x288 with 1 Axes>"
      ]
     },
     "metadata": {
      "needs_background": "light"
     },
     "output_type": "display_data"
    }
   ],
   "source": [
    "plt.plot(EPA_PM2_5,label='Outdoor',marker='o', linestyle='dashed') # Outdoor Data from EPA\n",
    "plt.plot(Measurement_PM2_5,label='Indoor',marker='o', linestyle='solid') #Inoodr Data Our Measurment\n",
    "# plt.plot(EPA_No2,'r--', Measurement_no2 ,'g-.') \n",
    "plt.legend()\n",
    "plt.title('K-SW PM 2.5')\n",
    "plt.xlabel('day')\n",
    "plt.ylabel('Contaminant Concentration /ug/m3 ')\n",
    "plt.xticks(np.arange(0, 5, 1), labels=['1 day', '2 day',  '3 day', '4 day', '5 day'])\n",
    "plt.show()"
   ]
  },
  {
   "cell_type": "code",
   "execution_count": 13,
   "id": "civic-crime",
   "metadata": {},
   "outputs": [
    {
     "data": {
      "image/png": "[encoded data removed]",
      "text/plain": [
       "<Figure size 432x288 with 1 Axes>"
      ]
     },
     "metadata": {
      "needs_background": "light"
     },
     "output_type": "display_data"
    }
   ],
   "source": [
    "plt.plot(EPA_PM10,label='Outdoor',marker='o', linestyle='dashed') # Outdoor Data from EPA\n",
    "plt.plot(Measurement_PM10,label='Indoor',marker='o', linestyle='solid') #Inoodr Data Our Measurment\n",
    "# plt.plot(EPA_No2,'r--', Measurement_no2 ,'g-.') \n",
    "plt.legend()\n",
    "plt.title('K-SW PM 10')\n",
    "plt.xlabel('day')\n",
    "plt.ylabel('Contaminant Concentration / ug/m3')\n",
    "plt.xticks(np.arange(0, 5, 1), labels=['1 day', '2 day',  '3 day', '4 day', '5 day'])\n",
    "plt.show()"
   ]
  },
  {
   "cell_type": "code",
   "execution_count": null,
   "id": "ranging-middle",
   "metadata": {},
   "outputs": [],
   "source": []
  },
  {
   "cell_type": "code",
   "execution_count": null,
   "id": "affected-spanking",
   "metadata": {},
   "outputs": [],
   "source": []
  }
 ],
 "metadata": {
  "kernelspec": {
   "display_name": "Python 3",
   "language": "python",
   "name": "python3"
  },
  "language_info": {
   "codemirror_mode": {
    "name": "ipython",
    "version": 3
   },
   "file_extension": ".py",
   "mimetype": "text/x-python",
   "name": "python",
   "nbconvert_exporter": "python",
   "pygments_lexer": "ipython3",
   "version": "3.7.9"
  }
 },
 "nbformat": 4,
 "nbformat_minor": 5
}
