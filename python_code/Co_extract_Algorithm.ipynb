{
 "cells": [
  {
   "cell_type": "code",
   "execution_count": 2,
   "id": "complimentary-wilderness",
   "metadata": {},
   "outputs": [],
   "source": [
    "%matplotlib inline\n",
    "import pandas as pd                #  data store and treat package pandas \n",
    "import matplotlib as mpl           # graph package\n",
    "import matplotlib.pyplot as plt    # graph package\n",
    "import numpy as np"
   ]
  },
  {
   "cell_type": "code",
   "execution_count": 3,
   "id": "gross-evolution",
   "metadata": {},
   "outputs": [
    {
     "data": {
      "text/html": [
       "<div>\n",
       "<style scoped>\n",
       "    .dataframe tbody tr th:only-of-type {\n",
       "        vertical-align: middle;\n",
       "    }\n",
       "\n",
       "    .dataframe tbody tr th {\n",
       "        vertical-align: top;\n",
       "    }\n",
       "\n",
       "    .dataframe thead th {\n",
       "        text-align: right;\n",
       "    }\n",
       "</style>\n",
       "<table border=\"1\" class=\"dataframe\">\n",
       "  <thead>\n",
       "    <tr style=\"text-align: right;\">\n",
       "      <th></th>\n",
       "      <th>CO</th>\n",
       "    </tr>\n",
       "  </thead>\n",
       "  <tbody>\n",
       "    <tr>\n",
       "      <th>0</th>\n",
       "      <td>19.00%;\"19.00째\";\" 0.689\"</td>\n",
       "    </tr>\n",
       "    <tr>\n",
       "      <th>1</th>\n",
       "      <td>19.00%;\"19.00째\";\" 0.689\"</td>\n",
       "    </tr>\n",
       "    <tr>\n",
       "      <th>2</th>\n",
       "      <td>19.00%;\"19.00째\";\" 0.689\"</td>\n",
       "    </tr>\n",
       "    <tr>\n",
       "      <th>3</th>\n",
       "      <td>19.00%;\"19.00째\";\" 0.689\"</td>\n",
       "    </tr>\n",
       "    <tr>\n",
       "      <th>4</th>\n",
       "      <td>19.00%;\"19.00째\";\" 0.655\"</td>\n",
       "    </tr>\n",
       "    <tr>\n",
       "      <th>...</th>\n",
       "      <td>...</td>\n",
       "    </tr>\n",
       "    <tr>\n",
       "      <th>596</th>\n",
       "      <td>17.00%;\"22.00째\";\" 1.381\"</td>\n",
       "    </tr>\n",
       "    <tr>\n",
       "      <th>597</th>\n",
       "      <td>17.00%;\"22.00째\";\" 1.875\"</td>\n",
       "    </tr>\n",
       "    <tr>\n",
       "      <th>598</th>\n",
       "      <td>17.00%;\"22.00째\";\" 1.381\"</td>\n",
       "    </tr>\n",
       "    <tr>\n",
       "      <th>599</th>\n",
       "      <td>17.00%;\"22.00째\";\" 1.239\"</td>\n",
       "    </tr>\n",
       "    <tr>\n",
       "      <th>600</th>\n",
       "      <td>17.00%;\"22.00째\";\" 1.381\"</td>\n",
       "    </tr>\n",
       "  </tbody>\n",
       "</table>\n",
       "<p>601 rows × 1 columns</p>\n",
       "</div>"
      ],
      "text/plain": [
       "                           CO\n",
       "0    19.00%;\"19.00째\";\" 0.689\"\n",
       "1    19.00%;\"19.00째\";\" 0.689\"\n",
       "2    19.00%;\"19.00째\";\" 0.689\"\n",
       "3    19.00%;\"19.00째\";\" 0.689\"\n",
       "4    19.00%;\"19.00째\";\" 0.655\"\n",
       "..                        ...\n",
       "596  17.00%;\"22.00째\";\" 1.381\"\n",
       "597  17.00%;\"22.00째\";\" 1.875\"\n",
       "598  17.00%;\"22.00째\";\" 1.381\"\n",
       "599  17.00%;\"22.00째\";\" 1.239\"\n",
       "600  17.00%;\"22.00째\";\" 1.381\"\n",
       "\n",
       "[601 rows x 1 columns]"
      ]
     },
     "execution_count": 3,
     "metadata": {},
     "output_type": "execute_result"
    }
   ],
   "source": [
    "Co_information = pd.read_csv('Diningcourt_CO.csv',encoding='euc-kr')\n",
    "Co_information"
   ]
  },
  {
   "cell_type": "code",
   "execution_count": 4,
   "id": "nominated-deviation",
   "metadata": {},
   "outputs": [
    {
     "data": {
      "text/plain": [
       "0      19.00%;\"19.00째\";\" 0.689\"\n",
       "1      19.00%;\"19.00째\";\" 0.689\"\n",
       "2      19.00%;\"19.00째\";\" 0.689\"\n",
       "3      19.00%;\"19.00째\";\" 0.689\"\n",
       "4      19.00%;\"19.00째\";\" 0.655\"\n",
       "                 ...           \n",
       "596    17.00%;\"22.00째\";\" 1.381\"\n",
       "597    17.00%;\"22.00째\";\" 1.875\"\n",
       "598    17.00%;\"22.00째\";\" 1.381\"\n",
       "599    17.00%;\"22.00째\";\" 1.239\"\n",
       "600    17.00%;\"22.00째\";\" 1.381\"\n",
       "Name: CO, Length: 601, dtype: object"
      ]
     },
     "execution_count": 4,
     "metadata": {},
     "output_type": "execute_result"
    }
   ],
   "source": [
    "Co_information[\"CO\"]"
   ]
  },
  {
   "cell_type": "code",
   "execution_count": 5,
   "id": "stock-bubble",
   "metadata": {},
   "outputs": [],
   "source": [
    "data = Co_information[\"CO\"]"
   ]
  },
  {
   "cell_type": "code",
   "execution_count": 6,
   "id": "applicable-norway",
   "metadata": {},
   "outputs": [],
   "source": [
    "dic_Co = {'1일차' : [], '2일차' : [], '3일차' : [], '4일차' : [], '5일차' : [], }"
   ]
  },
  {
   "cell_type": "code",
   "execution_count": 7,
   "id": "facial-secret",
   "metadata": {},
   "outputs": [
    {
     "name": "stdout",
     "output_type": "stream",
     "text": [
      "600\n",
      "[0.689, 0.689, 0.689, 0.689, 0.655, 0.725, 0.689, 0.725, 0.725, 0.689, 0.689, 0.725, 0.689, 0.655, 0.655, 0.655, 0.655, 0.621, 0.621, 0.621, 0.589, 0.589, 0.558, 0.558, 0.589, 0.529, 0.529, 0.558, 0.529, 0.529, 0.529, 0.529, 0.5, 1.172, 1.239, 1.239, 1.239, 1.239, 1.239, 1.239, 1.239, 1.308, 1.308, 1.239, 1.308, 1.239, 1.12, 1.253, 1.253, 1.12, 1.185, 1.12, 1.12, 1.12, 0.997, 0.997, 0.997, 0.997, 0.997, 1.057, 0.997, 0.997, 1.12, 1.057, 0.997, 1.057, 0.997, 1.196, 1.196, 1.268, 1.268, 1.268, 1.268, 1.268, 1.196, 1.196, 1.196, 1.196, 1.196, 1.196, 1.196, 1.196, 1.196, 1.196, 1.196, 1.196, 1.196, 1.196, 1.127, 1.196, 1.127, 1.127, 1.196, 1.196, 1.196, 1.127, 1.127, 1.127, 1.127, 1.127, 1.06, 1.06, 1.127, 1.127, 1.06, 1.06, 1.127, 1.06, 1.06, 1.06, 1.06, 1.127, 1.06, 1.127, 1.06, 1.127, 1.06, 1.127, 1.06, 1.127, 1.127, 1.127, 1.127, 1.127, 1.127, 1.06, 1.127, 1.06, 1.06, 1.06, 1.06, 0.997, 0.997, 0.997, 0.997, 0.997, 0.997, 0.997, 1.06, 0.997, 1.06, 1.06, 0.997, 0.936, 0.997, 0.997, 0.997, 0.997, 0.997, 1.06, 0.997, 1.06, 0.997, 0.997, 0.997, 0.997, 1.06, 1.06, 0.997, 1.06, 0.997, 1.06, 0.997, 0.997, 1.06, 1.06, 0.997, 1.06, 0.997, 0.997, 1.06, 0.936, 0.997, 0.936, 0.936, 0.997, 0.997, 0.936, 0.936, 0.936, 0.997, 0.997, 0.936, 0.936, 0.997, 0.997, 1.06, 1.06, 1.06, 1.06, 1.06, 1.06, 1.06, 0.997, 0.997, 0.936, 0.997, 0.936, 0.936, 0.997, 0.997, 0.936, 0.997, 0.936, 0.936, 0.936, 0.936, 0.936, 0.936, 0.997, 0.997, 0.936, 0.997, 0.997, 0.997, 0.997, 1.06, 1.127, 1.06, 1.06, 1.06, 1.06, 1.06, 1.06, 1.06, 0.936, 0.936, 0.997, 0.936, 0.997, 0.936, 0.936, 0.936, 0.936, 0.822, 0.877, 0.877, 0.877, 0.936, 0.936, 0.936, 0.936, 0.936, 0.936, 0.936, 0.936, 0.936, 0.936, 0.936, 0.997, 0.936, 0.997, 0.936, 0.936, 0.936, 0.936, 0.936, 1.06, 0.997, 0.997, 0.997, 1.06, 1.06, 0.997, 0.936, 0.936, 0.997, 0.997, 1.06, 0.997, 0.936, 0.997, 1.06, 0.997, 0.997, 1.06, 1.06, 1.06, 1.06, 0.997, 0.936, 0.936, 0.936, 0.997, 0.997, 0.997, 0.936, 0.997, 0.936, 0.936, 0.936, 0.936, 0.936, 0.936, 0.877, 0.936, 0.936, 0.936, 0.936, 0.936, 0.936, 0.997, 0.936, 0.997, 0.997, 0.936, 0.997, 0.936, 0.936, 0.997, 0.936, 0.936, 0.997, 0.936, 0.997, 0.997, 0.997, 0.936, 0.997, 0.997, 0.997, 0.997, 1.06, 0.936, 1.06, 0.997, 1.06, 1.06, 1.06, 1.06, 1.06, 1.216, 1.216, 1.14, 1.068, 1.068, 1.068, 1.216, 1.14, 1.216, 1.216, 1.216, 1.216, 1.216, 1.216, 1.216, 1.216, 1.216, 1.295, 1.216, 1.216, 1.216, 1.216, 1.14, 1.216, 1.216, 1.216, 1.216, 1.216, 1.216, 1.378, 1.378, 1.295, 1.216, 1.378, 1.378, 1.378, 1.378, 1.378, 1.295, 1.295, 1.295, 1.295, 1.216, 1.216, 1.216, 1.216, 1.216, 1.239, 1.162, 1.239, 1.239, 1.239, 1.239, 1.239, 1.239, 1.239, 1.32, 1.239, 1.239, 1.239, 1.239, 1.162, 1.162, 1.239, 1.239, 1.162, 1.239, 1.239, 1.239, 1.239, 1.32, 1.239, 1.239, 1.239, 1.239, 1.32, 1.32, 1.239, 1.239, 1.239, 1.239, 1.239, 1.239, 1.239, 1.404, 1.32, 1.404, 1.404, 1.492, 1.404, 1.492, 1.492, 1.404, 1.584, 1.404, 1.404, 1.404, 1.404, 1.404, 1.239, 1.239, 1.162, 1.162, 1.239, 1.162, 1.239, 1.162, 1.162, 1.162, 1.239, 1.239, 1.162, 1.239, 1.32, 1.239, 1.239, 1.239, 1.239, 1.239, 1.239, 1.239, 1.32, 1.239, 1.32, 1.404, 1.404, 1.32, 1.239, 1.404, 1.404, 1.492, 1.404, 1.584, 1.32, 1.32, 1.239, 1.239, 1.239, 1.239, 1.162, 1.239, 1.239, 1.404, 1.32, 1.492, 1.404, 1.404, 1.492, 1.404, 1.32, 1.239, 1.239, 1.32, 1.404, 1.32, 1.404, 1.32, 1.404, 1.492, 1.492, 1.404, 1.32, 1.239, 1.32, 1.404, 1.32, 1.32, 1.239, 1.32, 1.32, 1.32, 1.32, 1.32, 1.404, 1.492, 1.584, 1.679, 1.584, 1.584, 1.99, 1.882, 1.99, 1.99, 1.99, 1.99, 1.99, 1.882, 1.99, 1.99, 1.99, 1.882, 1.99, 1.99, 1.99, 1.99, 1.99, 1.99, 1.99, 1.882, 1.882, 1.882, 1.882, 1.882, 1.882, 1.99, 1.99, 1.882, 1.99, 1.99, 1.99, 1.99, 1.99, 1.882, 1.779, 1.882, 1.779, 1.779, 1.882, 1.882, 1.99, 1.99, 1.99, 1.99, 1.99, 1.99, 1.99, 1.239, 1.172, 1.172, 1.239, 1.172, 1.172, 1.172, 1.172, 1.108, 1.108, 1.108, 1.108, 1.108, 1.172, 1.108, 1.108, 1.108, 1.108, 1.108, 1.108, 1.108, 1.108, 1.172, 1.108, 1.172, 1.172, 1.172, 1.239, 1.108, 1.108, 1.172, 1.172, 1.172, 1.108, 1.172, 1.172, 1.239, 1.381, 1.875, 1.381, 1.875, 1.381, 1.239]\n"
     ]
    }
   ],
   "source": [
    "Co_data = []\n",
    "\n",
    "for i in range(600):\n",
    "    Co_data.append(float(data[i][18:23]))\n",
    "    \n",
    "print(len(Co_data))\n",
    "print(Co_data)"
   ]
  },
  {
   "cell_type": "code",
   "execution_count": 8,
   "id": "genetic-girlfriend",
   "metadata": {},
   "outputs": [
    {
     "name": "stdout",
     "output_type": "stream",
     "text": [
      "{'1일차': [0.689, 0.689, 0.689, 0.689, 0.655, 0.725, 0.689, 0.725, 0.725, 0.689, 0.689, 0.725, 0.689, 0.655, 0.655, 0.655, 0.655, 0.621, 0.621, 0.621, 0.589, 0.589, 0.558, 0.558, 0.589, 0.529, 0.529, 0.558, 0.529, 0.529, 0.529, 0.529, 0.5, 1.172, 1.239, 1.239, 1.239, 1.239, 1.239, 1.239, 1.239, 1.308, 1.308, 1.239, 1.308, 1.239, 1.12, 1.253, 1.253, 1.12, 1.185, 1.12, 1.12, 1.12, 0.997, 0.997, 0.997, 0.997, 0.997, 1.057, 0.997, 0.997, 1.12, 1.057, 0.997, 1.057, 0.997, 1.196, 1.196, 1.268, 1.268, 1.268, 1.268, 1.268, 1.196, 1.196, 1.196, 1.196, 1.196, 1.196, 1.196, 1.196, 1.196, 1.196, 1.196, 1.196, 1.196, 1.196, 1.127, 1.196, 1.127, 1.127, 1.196, 1.196, 1.196, 1.127, 1.127, 1.127, 1.127, 1.127, 1.06, 1.06, 1.127, 1.127, 1.06, 1.06, 1.127, 1.06, 1.06, 1.06, 1.06, 1.127, 1.06, 1.127, 1.06, 1.127, 1.06, 1.127, 1.06, 1.127], '2일차': [1.127, 1.127, 1.127, 1.127, 1.127, 1.06, 1.127, 1.06, 1.06, 1.06, 1.06, 0.997, 0.997, 0.997, 0.997, 0.997, 0.997, 0.997, 1.06, 0.997, 1.06, 1.06, 0.997, 0.936, 0.997, 0.997, 0.997, 0.997, 0.997, 1.06, 0.997, 1.06, 0.997, 0.997, 0.997, 0.997, 1.06, 1.06, 0.997, 1.06, 0.997, 1.06, 0.997, 0.997, 1.06, 1.06, 0.997, 1.06, 0.997, 0.997, 1.06, 0.936, 0.997, 0.936, 0.936, 0.997, 0.997, 0.936, 0.936, 0.936, 0.997, 0.997, 0.936, 0.936, 0.997, 0.997, 1.06, 1.06, 1.06, 1.06, 1.06, 1.06, 1.06, 0.997, 0.997, 0.936, 0.997, 0.936, 0.936, 0.997, 0.997, 0.936, 0.997, 0.936, 0.936, 0.936, 0.936, 0.936, 0.936, 0.997, 0.997, 0.936, 0.997, 0.997, 0.997, 0.997, 1.06, 1.127, 1.06, 1.06, 1.06, 1.06, 1.06, 1.06, 1.06, 0.936, 0.936, 0.997, 0.936, 0.997, 0.936, 0.936, 0.936, 0.936, 0.822, 0.877, 0.877, 0.877, 0.936, 0.936], '3일차': [0.936, 0.936, 0.936, 0.936, 0.936, 0.936, 0.936, 0.936, 0.936, 0.997, 0.936, 0.997, 0.936, 0.936, 0.936, 0.936, 0.936, 1.06, 0.997, 0.997, 0.997, 1.06, 1.06, 0.997, 0.936, 0.936, 0.997, 0.997, 1.06, 0.997, 0.936, 0.997, 1.06, 0.997, 0.997, 1.06, 1.06, 1.06, 1.06, 0.997, 0.936, 0.936, 0.936, 0.997, 0.997, 0.997, 0.936, 0.997, 0.936, 0.936, 0.936, 0.936, 0.936, 0.936, 0.877, 0.936, 0.936, 0.936, 0.936, 0.936, 0.936, 0.997, 0.936, 0.997, 0.997, 0.936, 0.997, 0.936, 0.936, 0.997, 0.936, 0.936, 0.997, 0.936, 0.997, 0.997, 0.997, 0.936, 0.997, 0.997, 0.997, 0.997, 1.06, 0.936, 1.06, 0.997, 1.06, 1.06, 1.06, 1.06, 1.06, 1.216, 1.216, 1.14, 1.068, 1.068, 1.068, 1.216, 1.14, 1.216, 1.216, 1.216, 1.216, 1.216, 1.216, 1.216, 1.216, 1.216, 1.295, 1.216, 1.216, 1.216, 1.216, 1.14, 1.216, 1.216, 1.216, 1.216, 1.216, 1.216], '4일차': [1.378, 1.378, 1.295, 1.216, 1.378, 1.378, 1.378, 1.378, 1.378, 1.295, 1.295, 1.295, 1.295, 1.216, 1.216, 1.216, 1.216, 1.216, 1.239, 1.162, 1.239, 1.239, 1.239, 1.239, 1.239, 1.239, 1.239, 1.32, 1.239, 1.239, 1.239, 1.239, 1.162, 1.162, 1.239, 1.239, 1.162, 1.239, 1.239, 1.239, 1.239, 1.32, 1.239, 1.239, 1.239, 1.239, 1.32, 1.32, 1.239, 1.239, 1.239, 1.239, 1.239, 1.239, 1.239, 1.404, 1.32, 1.404, 1.404, 1.492, 1.404, 1.492, 1.492, 1.404, 1.584, 1.404, 1.404, 1.404, 1.404, 1.404, 1.239, 1.239, 1.162, 1.162, 1.239, 1.162, 1.239, 1.162, 1.162, 1.162, 1.239, 1.239, 1.162, 1.239, 1.32, 1.239, 1.239, 1.239, 1.239, 1.239, 1.239, 1.239, 1.32, 1.239, 1.32, 1.404, 1.404, 1.32, 1.239, 1.404, 1.404, 1.492, 1.404, 1.584, 1.32, 1.32, 1.239, 1.239, 1.239, 1.239, 1.162, 1.239, 1.239, 1.404, 1.32, 1.492, 1.404, 1.404, 1.492, 1.404], '5일차': [1.32, 1.239, 1.239, 1.32, 1.404, 1.32, 1.404, 1.32, 1.404, 1.492, 1.492, 1.404, 1.32, 1.239, 1.32, 1.404, 1.32, 1.32, 1.239, 1.32, 1.32, 1.32, 1.32, 1.32, 1.404, 1.492, 1.584, 1.679, 1.584, 1.584, 1.99, 1.882, 1.99, 1.99, 1.99, 1.99, 1.99, 1.882, 1.99, 1.99, 1.99, 1.882, 1.99, 1.99, 1.99, 1.99, 1.99, 1.99, 1.99, 1.882, 1.882, 1.882, 1.882, 1.882, 1.882, 1.99, 1.99, 1.882, 1.99, 1.99, 1.99, 1.99, 1.99, 1.882, 1.779, 1.882, 1.779, 1.779, 1.882, 1.882, 1.99, 1.99, 1.99, 1.99, 1.99, 1.99, 1.99, 1.239, 1.172, 1.172, 1.239, 1.172, 1.172, 1.172, 1.172, 1.108, 1.108, 1.108, 1.108, 1.108, 1.172, 1.108, 1.108, 1.108, 1.108, 1.108, 1.108, 1.108, 1.108, 1.172, 1.108, 1.172, 1.172, 1.172, 1.239, 1.108, 1.108, 1.172, 1.172, 1.172, 1.108, 1.172, 1.172, 1.239, 1.381, 1.875, 1.381, 1.875, 1.381, 1.239]}\n"
     ]
    }
   ],
   "source": [
    "count = 0\n",
    "num = 0\n",
    "day = 1\n",
    "\n",
    "while day < 6:\n",
    "    if num == 120:\n",
    "        day += 1 \n",
    "        num = 0\n",
    "    else:    \n",
    "        dic_Co[\"{}일차\".format(day)].append(float(Co_data[count]))\n",
    "        count += 1\n",
    "        num += 1\n",
    "\n",
    "print(dic_Co)"
   ]
  },
  {
   "cell_type": "code",
   "execution_count": 9,
   "id": "destroyed-opening",
   "metadata": {},
   "outputs": [
    {
     "name": "stdout",
     "output_type": "stream",
     "text": [
      "Co 1일차 평균 1.0039916666666668\n",
      "CO 2일차 평균 1.0027083333333335\n",
      "Co 3일차 평균 1.030525\n",
      "Co 4일차 평균 1.2932166666666667\n",
      "Co 5일차 평균 1.537566666666667\n",
      "[1.0039916666666668, 1.0027083333333335, 1.030525, 1.2932166666666667, 1.537566666666667]\n"
     ]
    }
   ],
   "source": [
    "# print(dic_PM2_5['1일차'].astype(np.int64))\n",
    "data = np.array(dic_Co['1일차'])\n",
    "data_new = data.astype(float)\n",
    "average_1_Co = np.mean(data_new)\n",
    "\n",
    "\n",
    "data = np.array(dic_Co['2일차'])\n",
    "data_new = data.astype(float)\n",
    "average_2_Co = np.mean(data_new)\n",
    "\n",
    "\n",
    "data = np.array(dic_Co['3일차'])\n",
    "data_new = data.astype(float)\n",
    "average_3_Co = np.mean(data_new)\n",
    "\n",
    "data = np.array(dic_Co['4일차'])\n",
    "data_new = data.astype(float)\n",
    "average_4_Co = np.mean(data_new)\n",
    "\n",
    "data = np.array(dic_Co['5일차'])\n",
    "data_new = data.astype(float)\n",
    "average_5_Co = np.mean(data_new)\n",
    "\n",
    "\n",
    "#1일차 평균\n",
    "print('Co 1일차 평균',average_1_Co)\n",
    "\n",
    "# 2일차 평균\n",
    "print('CO 2일차 평균',average_2_Co)\n",
    "\n",
    "# 3일차 평균\n",
    "print('Co 3일차 평균',average_3_Co)\n",
    "\n",
    "# 4일차 평균\n",
    "print('Co 4일차 평균',average_4_Co)\n",
    "\n",
    "# 5일차 평균\n",
    "print('Co 5일차 평균',average_5_Co)\n",
    "Measurement_Co = [average_1_Co,average_2_Co,average_3_Co,average_4_Co,average_5_Co]\n",
    "print(Measurement_Co)"
   ]
  },
  {
   "cell_type": "markdown",
   "id": "french-somerset",
   "metadata": {},
   "source": [
    "#### EPA 2021 인디에나폴리스 Co값 하루 평균\n",
    "#### 2021.02.14 ~ 2021.02.18"
   ]
  },
  {
   "cell_type": "code",
   "execution_count": 10,
   "id": "rising-union",
   "metadata": {},
   "outputs": [],
   "source": [
    "EPA_Co = [0.3\n",
    ",0.2\n",
    ",0.3\n",
    ",0.6\n",
    ",0.3\n",
    "]"
   ]
  },
  {
   "cell_type": "code",
   "execution_count": 12,
   "id": "fitting-villa",
   "metadata": {},
   "outputs": [
    {
     "data": {
      "image/png": "[encoded data removed]",
      "text/plain": [
       "<Figure size 432x288 with 1 Axes>"
      ]
     },
     "metadata": {
      "needs_background": "light"
     },
     "output_type": "display_data"
    }
   ],
   "source": [
    "plt.plot(EPA_Co,label='Outdoor(EPA)',marker='o', linestyle='dashed', linewidth = \"4.3\") # Outdoor Data from EPA\n",
    "plt.plot(Measurement_Co,label='Indoor',marker='o', linestyle='solid') #Inoodr Data Our Measurment\n",
    "# plt.plot(EPA_No2,'r--', Measurement_no2 ,'g-.') \n",
    "plt.legend()\n",
    "plt.title('Library Co') # Change title nams / Library, K-SW, Corec(exericse center), Dining court\n",
    "plt.xlabel('day')\n",
    "plt.ylabel('Contaminant Concentration / PPM')\n",
    "plt.yticks(np.arange(0, 2.0, 0.1))\n",
    "plt.xticks(np.arange(0, 5, 1), labels=['1 day', '2 day',  '3 day', '4 day', '5 day'])\n",
    "plt.show()"
   ]
  },
  {
   "cell_type": "code",
   "execution_count": null,
   "id": "persistent-schema",
   "metadata": {},
   "outputs": [],
   "source": []
  }
 ],
 "metadata": {
  "kernelspec": {
   "display_name": "Python 3",
   "language": "python",
   "name": "python3"
  },
  "language_info": {
   "codemirror_mode": {
    "name": "ipython",
    "version": 3
   },
   "file_extension": ".py",
   "mimetype": "text/x-python",
   "name": "python",
   "nbconvert_exporter": "python",
   "pygments_lexer": "ipython3",
   "version": "3.7.9"
  }
 },
 "nbformat": 4,
 "nbformat_minor": 5
}
